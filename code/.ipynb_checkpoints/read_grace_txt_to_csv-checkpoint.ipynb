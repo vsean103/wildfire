{
 "cells": [
  {
   "cell_type": "code",
   "execution_count": 1,
   "metadata": {
    "collapsed": true
   },
   "outputs": [],
   "source": [
    "import csv"
   ]
  },
  {
   "cell_type": "code",
   "execution_count": 2,
   "metadata": {
    "collapsed": true
   },
   "outputs": [],
   "source": [
    "PATH = \"../data/grace_dataset/\"\n",
    "NAME = \"GLDAS_NOAH10_M.A200801.totalH2O\"\n",
    "FILE_NAME = PATH + NAME + \".txt\"\n",
    "OUT_FILE = NAME + '.csv'"
   ]
  },
  {
   "cell_type": "code",
   "execution_count": null,
   "metadata": {
    "collapsed": true
   },
   "outputs": [],
   "source": [
    "with open(FILE_NAME, 'r') as in_file:\n",
    "    # skip first 19 lines\n",
    "    for _ in range(19):\n",
    "        next(in_file)\n",
    "    \n",
    "    stripped = (line.strip() for line in in_file)\n",
    "    lines = (line.split(\" \") for line in stripped if line)\n",
    "    with open(OUT_FILE, 'w') as out_file:\n",
    "        writer = csv.writer(out_file)\n",
    "        writer.writerow(('LON', 'LAT', 'GRACE'))\n",
    "        writer.writerows(lines)\n",
    "        \n",
    "\n",
    "with open('yourfile.txt') as f:\n",
    "    for _ in range(17):\n",
    "        next(f)\n",
    "    for line in f:\n",
    "        # do stuff\n",
    "        \n",
    "        \n",
    "import pandas\n",
    "\n",
    "df = pandas.read_table('./input/dists.txt', delim_whitespace=True, names=('A', 'B', 'C'))"
   ]
  }
 ],
 "metadata": {
  "kernelspec": {
   "display_name": "Python 3",
   "language": "python",
   "name": "python3"
  },
  "language_info": {
   "codemirror_mode": {
    "name": "ipython",
    "version": 3
   },
   "file_extension": ".py",
   "mimetype": "text/x-python",
   "name": "python",
   "nbconvert_exporter": "python",
   "pygments_lexer": "ipython3",
   "version": "3.4.5"
  }
 },
 "nbformat": 4,
 "nbformat_minor": 2
}
