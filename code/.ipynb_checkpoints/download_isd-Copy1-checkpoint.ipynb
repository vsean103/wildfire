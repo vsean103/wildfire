{
 "cells": [
  {
   "cell_type": "code",
   "execution_count": 81,
   "metadata": {},
   "outputs": [],
   "source": [
    "from urllib.request import urlopen, urlretrieve\n",
    "from bs4 import BeautifulSoup, SoupStrainer\n",
    "import httplib2\n",
    "import urllib\n",
    "import pandas as pd\n",
    "import numpy as np\n",
    "from ftplib import FTP\n",
    "import gzip"
   ]
  },
  {
   "cell_type": "code",
   "execution_count": 63,
   "metadata": {},
   "outputs": [],
   "source": [
    "url = \"ftp://ftp.ncdc.noaa.gov/pub/data/noaa/isd-lite/\""
   ]
  },
  {
   "cell_type": "code",
   "execution_count": 48,
   "metadata": {},
   "outputs": [],
   "source": [
    "# get the html of the page\n",
    "html = urlopen(url)"
   ]
  },
  {
   "cell_type": "code",
   "execution_count": 49,
   "metadata": {},
   "outputs": [
    {
     "data": {
      "text/plain": [
       "bs4.BeautifulSoup"
      ]
     },
     "execution_count": 49,
     "metadata": {},
     "output_type": "execute_result"
    }
   ],
   "source": [
    "# create a Beautiful Soup object from the html\n",
    "soup = BeautifulSoup(html)\n",
    "type(soup)"
   ]
  },
  {
   "cell_type": "code",
   "execution_count": 50,
   "metadata": {},
   "outputs": [
    {
     "name": "stdout",
     "output_type": "stream",
     "text": [
      "None\n"
     ]
    }
   ],
   "source": [
    "# Get the title\n",
    "title = soup.title\n",
    "print(title)"
   ]
  },
  {
   "cell_type": "code",
   "execution_count": 51,
   "metadata": {},
   "outputs": [
    {
     "data": {
      "text/plain": [
       "<html><body><p>drwxr-xr-x   2 4021     4021        32768 Aug 26  2018 1901\n",
       "drwxr-xr-x   2 4021     4021        32768 Aug 26  2018 1902\n",
       "drwxr-xr-x   2 4021     4021        32768 Aug 26  2018 1903\n",
       "drwxr-xr-x   2 4021     4021        32768 Aug 26  2018 1904\n",
       "drwxr-xr-x   2 4021     4021        32768 Aug 26  2018 1905\n",
       "drwxr-xr-x   2 4021     4021        32768 Aug 31  2018 1906\n",
       "drwxr-xr-x   2 4021     4021        32768 Aug 26  2018 1907\n",
       "drwxr-xr-x   2 4021     4021        32768 Aug 26  2018 1908\n",
       "drwxr-xr-x   2 4021     4021        32768 Aug 26  2018 1909\n",
       "drwxr-xr-x   2 4021     4021        32768 Aug 26  2018 1910\n",
       "drwxr-xr-x   2 4021     4021        32768 Aug 26  2018 1911\n",
       "drwxr-xr-x   2 4021     4021        32768 Aug 26  2018 1912\n",
       "drwxr-xr-x   2 4021     4021        32768 Aug 26  2018 1913\n",
       "drwxr-xr-x   2 4021     4021        32768 Aug 26  2018 1914\n",
       "drwxr-xr-x   2 4021     4021        32768 Aug 26  2018 1915\n",
       "drwxr-xr-x   2 4021     4021          512 Aug 26  2018 1916\n",
       "drwxr-xr-x   2 4021     4021        32768 Aug 26  2018 1917\n",
       "drwxr-xr-x   2 4021     4021        32768 Aug 26  2018 1918\n",
       "drwxr-xr-x   2 4021     4021        32768 Aug 26  2018 1919\n",
       "drwxr-xr-x   2 4021     4021        32768 Aug 26  2018 1920\n",
       "drwxr-xr-x   2 4021     4021        32768 Aug 26  2018 1921\n",
       "drwxr-xr-x   2 4021     4021        32768 Aug 26  2018 1922\n",
       "drwxr-xr-x   2 4021     4021        32768 Aug 31  2018 1923\n",
       "drwxr-xr-x   2 4021     4021        32768 Aug 26  2018 1924\n",
       "drwxr-xr-x   2 4021     4021        32768 Aug 26  2018 1925\n",
       "drwxr-xr-x   2 4021     4021        32768 Aug 26  2018 1926\n",
       "drwxr-xr-x   2 4021     4021        32768 Aug 26  2018 1927\n",
       "drwxr-xr-x   2 4021     4021        32768 Aug 26  2018 1928\n",
       "drwxr-xr-x   2 4021     4021        32768 Aug 26  2018 1929\n",
       "drwxr-xr-x   2 4021     4021        32768 Aug 26  2018 1930\n",
       "drwxr-xr-x   2 4021     4021        32768 Aug 26  2018 1931\n",
       "drwxr-xr-x   2 4021     4021        65536 Aug 26  2018 1932\n",
       "drwxr-xr-x   2 4021     4021        65536 Aug 26  2018 1933\n",
       "drwxr-xr-x   2 4021     4021        65536 Aug 26  2018 1934\n",
       "drwxr-xr-x   2 4021     4021        65536 Aug 26  2018 1935\n",
       "drwxr-xr-x   2 4021     4021        98304 Aug 27  2018 1936\n",
       "drwxr-xr-x   2 4021     4021        98304 Aug 27  2018 1937\n",
       "drwxr-xr-x   2 4021     4021        65536 Aug 27  2018 1938\n",
       "drwxr-xr-x   2 4021     4021        65536 Aug 27  2018 1939\n",
       "drwxr-xr-x   2 4021     4021        65536 Aug 27  2018 1940\n",
       "drwxr-xr-x   2 4021     4021        65536 Aug 27  2018 1941\n",
       "drwxr-xr-x   2 4021     4021        65536 Aug 27  2018 1942\n",
       "drwxr-xr-x   2 4021     4021       131072 Aug 27  2018 1943\n",
       "drwxr-xr-x   2 4021     4021       131072 Aug 27  2018 1944\n",
       "drwxr-xr-x   2 4021     4021       131072 Aug 27  2018 1945\n",
       "drwxr-xr-x   2 4021     4021       131072 Aug 27  2018 1946\n",
       "drwxr-xr-x   2 4021     4021       131072 Aug 27  2018 1947\n",
       "drwxr-xr-x   2 4021     4021       131072 Aug 27  2018 1948\n",
       "drwxr-xr-x   2 4021     4021       262144 Aug 31  2018 1949\n",
       "drwxr-xr-x   2 4021     4021       262144 Aug 27  2018 1950\n",
       "drwxr-xr-x   2 4021     4021       262144 Aug 31  2018 1951\n",
       "drwxr-xr-x   2 4021     4021       262144 Aug 31  2018 1952\n",
       "drwxr-xr-x   2 4021     4021       262144 Aug 31  2018 1953\n",
       "drwxr-xr-x   2 4021     4021       262144 Sep  1  2018 1954\n",
       "drwxr-xr-x   2 4021     4021       262144 Sep  1  2018 1955\n",
       "drwxr-xr-x   2 4021     4021       262144 Sep  1  2018 1956\n",
       "drwxr-xr-x   2 4021     4021       524288 Sep 29  2014 1957\n",
       "drwxr-xr-x   2 4021     4021       524288 Sep 29  2014 1958\n",
       "drwxr-xr-x   2 4021     4021       524288 Sep 29  2014 1959\n",
       "drwxr-xr-x   2 4021     4021       524288 Sep 29  2014 1960\n",
       "drwxr-xr-x   2 4021     4021       524288 Sep 29  2014 1961\n",
       "drwxr-xr-x   2 4021     4021       524288 Sep 29  2014 1962\n",
       "drwxr-xr-x   2 4021     4021       524288 Sep 29  2014 1963\n",
       "drwxr-xr-x   2 4021     4021       262144 Sep 29  2014 1964\n",
       "drwxr-xr-x   2 4021     4021       262144 Sep 29  2014 1965\n",
       "drwxr-xr-x   2 4021     4021       262144 Sep 29  2014 1966\n",
       "drwxr-xr-x   2 4021     4021       262144 Sep 29  2014 1967\n",
       "drwxr-xr-x   2 4021     4021       262144 Sep 29  2014 1968\n",
       "drwxr-xr-x   2 4021     4021       262144 Sep 29  2014 1969\n",
       "drwxr-xr-x   2 4021     4021       262144 Sep 29  2014 1970\n",
       "drwxr-xr-x   2 4021     4021       262144 Sep 29  2014 1971\n",
       "drwxr-xr-x   2 4021     4021        65536 Sep 29  2014 1972\n",
       "drwxr-xr-x   2 4021     4021      1048576 Sep 29  2014 1973\n",
       "drwxr-xr-x   2 4021     4021      1048576 Sep 29  2014 1974\n",
       "drwxr-xr-x   2 4021     4021      1048576 Sep 29  2014 1975\n",
       "drwxr-xr-x   2 4021     4021      1048576 Sep 29  2014 1976\n",
       "drwxr-xr-x   2 4021     4021      1048576 Sep 29  2014 1977\n",
       "drwxr-xr-x   2 4021     4021      1048576 Sep 29  2014 1978\n",
       "drwxr-xr-x   2 4021     4021      1048576 Sep 29  2014 1979\n",
       "drwxr-xr-x   2 4021     4021      1048576 Sep 29  2014 1980\n",
       "drwxr-xr-x   2 4021     4021      1048576 Sep 29  2014 1981\n",
       "drwxr-xr-x   2 4021     4021      1048576 Sep 29  2014 1982\n",
       "drwxr-xr-x   2 4021     4021      1048576 Sep 29  2014 1983\n",
       "drwxr-xr-x   2 4021     4021      1048576 Sep 29  2014 1984\n",
       "drwxr-xr-x   2 4021     4021      1048576 Sep 29  2014 1985\n",
       "drwxr-xr-x   2 4021     4021      1048576 Sep 29  2014 1986\n",
       "drwxr-xr-x   2 4021     4021      1048576 Sep 29  2014 1987\n",
       "drwxr-xr-x   2 4021     4021      1048576 Sep 29  2014 1988\n",
       "drwxr-xr-x   2 4021     4021      1048576 Sep 29  2014 1989\n",
       "drwxr-xr-x   2 4021     4021      1048576 Sep 29  2014 1990\n",
       "drwxr-xr-x   2 4021     4021      1048576 Sep 29  2014 1991\n",
       "drwxr-xr-x   2 4021     4021      1048576 Sep 29  2014 1992\n",
       "drwxr-xr-x   2 4021     4021      1048576 Sep 29  2014 1993\n",
       "drwxr-xr-x   2 4021     4021      1048576 Sep 29  2014 1994\n",
       "drwxr-xr-x   2 4021     4021      1048576 Sep 29  2014 1995\n",
       "drwxr-xr-x   2 4021     4021      1048576 Feb  1 19:54 1996\n",
       "drwxr-xr-x   2 4021     4021      1048576 Jul 20  2017 1997\n",
       "drwxr-xr-x   2 4021     4021      1048576 Jul 15  2017 1998\n",
       "drwxr-xr-x   2 4021     4021      1048576 Jul 15  2017 1999\n",
       "drwxr-xr-x   2 4021     4021      1048576 Jul 16  2017 2000\n",
       "drwxr-xr-x   2 4021     4021      1048576 Jul 20  2017 2001\n",
       "drwxr-xr-x   2 4021     4021      1048576 Jul 21  2017 2002\n",
       "drwxr-xr-x   2 4021     4021      1048576 Jul 17  2017 2003\n",
       "drwxr-xr-x   2 4021     4021      1048576 Jul 26  2017 2004\n",
       "drwxr-xr-x   2 4021     4021      1081344 Mar  7 22:19 2005\n",
       "drwxr-xr-x   2 4021     4021      1048576 Jan 29 18:10 2006\n",
       "drwxr-xr-x   2 4021     4021      1048576 Oct 27 21:37 2007\n",
       "drwxr-xr-x   2 4021     4021      1048576 Sep 19  2018 2008\n",
       "drwxr-xr-x   2 4021     4021      1048576 Sep 20  2018 2009\n",
       "drwxr-xr-x   2 4021     4021      1048576 Sep 20  2018 2010\n",
       "drwxr-xr-x   2 4021     4021      1048576 Sep 17  2018 2011\n",
       "drwxr-xr-x   2 4021     4021      1048576 Mar  8 17:40 2012\n",
       "drwxr-xr-x   2 4021     4021      1081344 Nov  1 00:05 2013\n",
       "drwxr-xr-x   2 4021     4021      1212416 Jul 31  2018 2014\n",
       "drwxr-xr-x   2 4021     4021      1081344 Nov  8 16:29 2015\n",
       "drwxr-xr-x   2 4021     4021      1179648 Dec 19 01:22 2016\n",
       "drwxrwxr-x   2 4021     4021      1114112 Nov 26 22:26 2017\n",
       "drwxrwxr-x   2 4021     4021      1081344 Mar 13 08:46 2018\n",
       "drwxrwxr-x   2 4021     4021      1048576 Mar 26 11:38 2019\n",
       "-rw-r--r--   1 4021     4021        10065 Jul 27  2006 isd-lite-format.pdf\n",
       "-rw-r--r--   1 4021     4021         3119 Jul 27  2006 isd-lite-format.txt\n",
       "-rw-r--r--   1 4021     4021        10648 Jul 27  2006 isd-lite-technical-document.pdf\n",
       "-rw-r--r--   1 4021     4021         4953 Jul 27  2006 isd-lite-technical-document.txt\n",
       "</p></body></html>"
      ]
     },
     "execution_count": 51,
     "metadata": {},
     "output_type": "execute_result"
    }
   ],
   "source": [
    "soup"
   ]
  },
  {
   "cell_type": "code",
   "execution_count": 54,
   "metadata": {},
   "outputs": [
    {
     "data": {
      "text/plain": [
       "[<p>drwxr-xr-x   2 4021     4021        32768 Aug 26  2018 1901\n",
       " drwxr-xr-x   2 4021     4021        32768 Aug 26  2018 1902\n",
       " drwxr-xr-x   2 4021     4021        32768 Aug 26  2018 1903\n",
       " drwxr-xr-x   2 4021     4021        32768 Aug 26  2018 1904\n",
       " drwxr-xr-x   2 4021     4021        32768 Aug 26  2018 1905\n",
       " drwxr-xr-x   2 4021     4021        32768 Aug 31  2018 1906\n",
       " drwxr-xr-x   2 4021     4021        32768 Aug 26  2018 1907\n",
       " drwxr-xr-x   2 4021     4021        32768 Aug 26  2018 1908\n",
       " drwxr-xr-x   2 4021     4021        32768 Aug 26  2018 1909\n",
       " drwxr-xr-x   2 4021     4021        32768 Aug 26  2018 1910\n",
       " drwxr-xr-x   2 4021     4021        32768 Aug 26  2018 1911\n",
       " drwxr-xr-x   2 4021     4021        32768 Aug 26  2018 1912\n",
       " drwxr-xr-x   2 4021     4021        32768 Aug 26  2018 1913\n",
       " drwxr-xr-x   2 4021     4021        32768 Aug 26  2018 1914\n",
       " drwxr-xr-x   2 4021     4021        32768 Aug 26  2018 1915\n",
       " drwxr-xr-x   2 4021     4021          512 Aug 26  2018 1916\n",
       " drwxr-xr-x   2 4021     4021        32768 Aug 26  2018 1917\n",
       " drwxr-xr-x   2 4021     4021        32768 Aug 26  2018 1918\n",
       " drwxr-xr-x   2 4021     4021        32768 Aug 26  2018 1919\n",
       " drwxr-xr-x   2 4021     4021        32768 Aug 26  2018 1920\n",
       " drwxr-xr-x   2 4021     4021        32768 Aug 26  2018 1921\n",
       " drwxr-xr-x   2 4021     4021        32768 Aug 26  2018 1922\n",
       " drwxr-xr-x   2 4021     4021        32768 Aug 31  2018 1923\n",
       " drwxr-xr-x   2 4021     4021        32768 Aug 26  2018 1924\n",
       " drwxr-xr-x   2 4021     4021        32768 Aug 26  2018 1925\n",
       " drwxr-xr-x   2 4021     4021        32768 Aug 26  2018 1926\n",
       " drwxr-xr-x   2 4021     4021        32768 Aug 26  2018 1927\n",
       " drwxr-xr-x   2 4021     4021        32768 Aug 26  2018 1928\n",
       " drwxr-xr-x   2 4021     4021        32768 Aug 26  2018 1929\n",
       " drwxr-xr-x   2 4021     4021        32768 Aug 26  2018 1930\n",
       " drwxr-xr-x   2 4021     4021        32768 Aug 26  2018 1931\n",
       " drwxr-xr-x   2 4021     4021        65536 Aug 26  2018 1932\n",
       " drwxr-xr-x   2 4021     4021        65536 Aug 26  2018 1933\n",
       " drwxr-xr-x   2 4021     4021        65536 Aug 26  2018 1934\n",
       " drwxr-xr-x   2 4021     4021        65536 Aug 26  2018 1935\n",
       " drwxr-xr-x   2 4021     4021        98304 Aug 27  2018 1936\n",
       " drwxr-xr-x   2 4021     4021        98304 Aug 27  2018 1937\n",
       " drwxr-xr-x   2 4021     4021        65536 Aug 27  2018 1938\n",
       " drwxr-xr-x   2 4021     4021        65536 Aug 27  2018 1939\n",
       " drwxr-xr-x   2 4021     4021        65536 Aug 27  2018 1940\n",
       " drwxr-xr-x   2 4021     4021        65536 Aug 27  2018 1941\n",
       " drwxr-xr-x   2 4021     4021        65536 Aug 27  2018 1942\n",
       " drwxr-xr-x   2 4021     4021       131072 Aug 27  2018 1943\n",
       " drwxr-xr-x   2 4021     4021       131072 Aug 27  2018 1944\n",
       " drwxr-xr-x   2 4021     4021       131072 Aug 27  2018 1945\n",
       " drwxr-xr-x   2 4021     4021       131072 Aug 27  2018 1946\n",
       " drwxr-xr-x   2 4021     4021       131072 Aug 27  2018 1947\n",
       " drwxr-xr-x   2 4021     4021       131072 Aug 27  2018 1948\n",
       " drwxr-xr-x   2 4021     4021       262144 Aug 31  2018 1949\n",
       " drwxr-xr-x   2 4021     4021       262144 Aug 27  2018 1950\n",
       " drwxr-xr-x   2 4021     4021       262144 Aug 31  2018 1951\n",
       " drwxr-xr-x   2 4021     4021       262144 Aug 31  2018 1952\n",
       " drwxr-xr-x   2 4021     4021       262144 Aug 31  2018 1953\n",
       " drwxr-xr-x   2 4021     4021       262144 Sep  1  2018 1954\n",
       " drwxr-xr-x   2 4021     4021       262144 Sep  1  2018 1955\n",
       " drwxr-xr-x   2 4021     4021       262144 Sep  1  2018 1956\n",
       " drwxr-xr-x   2 4021     4021       524288 Sep 29  2014 1957\n",
       " drwxr-xr-x   2 4021     4021       524288 Sep 29  2014 1958\n",
       " drwxr-xr-x   2 4021     4021       524288 Sep 29  2014 1959\n",
       " drwxr-xr-x   2 4021     4021       524288 Sep 29  2014 1960\n",
       " drwxr-xr-x   2 4021     4021       524288 Sep 29  2014 1961\n",
       " drwxr-xr-x   2 4021     4021       524288 Sep 29  2014 1962\n",
       " drwxr-xr-x   2 4021     4021       524288 Sep 29  2014 1963\n",
       " drwxr-xr-x   2 4021     4021       262144 Sep 29  2014 1964\n",
       " drwxr-xr-x   2 4021     4021       262144 Sep 29  2014 1965\n",
       " drwxr-xr-x   2 4021     4021       262144 Sep 29  2014 1966\n",
       " drwxr-xr-x   2 4021     4021       262144 Sep 29  2014 1967\n",
       " drwxr-xr-x   2 4021     4021       262144 Sep 29  2014 1968\n",
       " drwxr-xr-x   2 4021     4021       262144 Sep 29  2014 1969\n",
       " drwxr-xr-x   2 4021     4021       262144 Sep 29  2014 1970\n",
       " drwxr-xr-x   2 4021     4021       262144 Sep 29  2014 1971\n",
       " drwxr-xr-x   2 4021     4021        65536 Sep 29  2014 1972\n",
       " drwxr-xr-x   2 4021     4021      1048576 Sep 29  2014 1973\n",
       " drwxr-xr-x   2 4021     4021      1048576 Sep 29  2014 1974\n",
       " drwxr-xr-x   2 4021     4021      1048576 Sep 29  2014 1975\n",
       " drwxr-xr-x   2 4021     4021      1048576 Sep 29  2014 1976\n",
       " drwxr-xr-x   2 4021     4021      1048576 Sep 29  2014 1977\n",
       " drwxr-xr-x   2 4021     4021      1048576 Sep 29  2014 1978\n",
       " drwxr-xr-x   2 4021     4021      1048576 Sep 29  2014 1979\n",
       " drwxr-xr-x   2 4021     4021      1048576 Sep 29  2014 1980\n",
       " drwxr-xr-x   2 4021     4021      1048576 Sep 29  2014 1981\n",
       " drwxr-xr-x   2 4021     4021      1048576 Sep 29  2014 1982\n",
       " drwxr-xr-x   2 4021     4021      1048576 Sep 29  2014 1983\n",
       " drwxr-xr-x   2 4021     4021      1048576 Sep 29  2014 1984\n",
       " drwxr-xr-x   2 4021     4021      1048576 Sep 29  2014 1985\n",
       " drwxr-xr-x   2 4021     4021      1048576 Sep 29  2014 1986\n",
       " drwxr-xr-x   2 4021     4021      1048576 Sep 29  2014 1987\n",
       " drwxr-xr-x   2 4021     4021      1048576 Sep 29  2014 1988\n",
       " drwxr-xr-x   2 4021     4021      1048576 Sep 29  2014 1989\n",
       " drwxr-xr-x   2 4021     4021      1048576 Sep 29  2014 1990\n",
       " drwxr-xr-x   2 4021     4021      1048576 Sep 29  2014 1991\n",
       " drwxr-xr-x   2 4021     4021      1048576 Sep 29  2014 1992\n",
       " drwxr-xr-x   2 4021     4021      1048576 Sep 29  2014 1993\n",
       " drwxr-xr-x   2 4021     4021      1048576 Sep 29  2014 1994\n",
       " drwxr-xr-x   2 4021     4021      1048576 Sep 29  2014 1995\n",
       " drwxr-xr-x   2 4021     4021      1048576 Feb  1 19:54 1996\n",
       " drwxr-xr-x   2 4021     4021      1048576 Jul 20  2017 1997\n",
       " drwxr-xr-x   2 4021     4021      1048576 Jul 15  2017 1998\n",
       " drwxr-xr-x   2 4021     4021      1048576 Jul 15  2017 1999\n",
       " drwxr-xr-x   2 4021     4021      1048576 Jul 16  2017 2000\n",
       " drwxr-xr-x   2 4021     4021      1048576 Jul 20  2017 2001\n",
       " drwxr-xr-x   2 4021     4021      1048576 Jul 21  2017 2002\n",
       " drwxr-xr-x   2 4021     4021      1048576 Jul 17  2017 2003\n",
       " drwxr-xr-x   2 4021     4021      1048576 Jul 26  2017 2004\n",
       " drwxr-xr-x   2 4021     4021      1081344 Mar  7 22:19 2005\n",
       " drwxr-xr-x   2 4021     4021      1048576 Jan 29 18:10 2006\n",
       " drwxr-xr-x   2 4021     4021      1048576 Oct 27 21:37 2007\n",
       " drwxr-xr-x   2 4021     4021      1048576 Sep 19  2018 2008\n",
       " drwxr-xr-x   2 4021     4021      1048576 Sep 20  2018 2009\n",
       " drwxr-xr-x   2 4021     4021      1048576 Sep 20  2018 2010\n",
       " drwxr-xr-x   2 4021     4021      1048576 Sep 17  2018 2011\n",
       " drwxr-xr-x   2 4021     4021      1048576 Mar  8 17:40 2012\n",
       " drwxr-xr-x   2 4021     4021      1081344 Nov  1 00:05 2013\n",
       " drwxr-xr-x   2 4021     4021      1212416 Jul 31  2018 2014\n",
       " drwxr-xr-x   2 4021     4021      1081344 Nov  8 16:29 2015\n",
       " drwxr-xr-x   2 4021     4021      1179648 Dec 19 01:22 2016\n",
       " drwxrwxr-x   2 4021     4021      1114112 Nov 26 22:26 2017\n",
       " drwxrwxr-x   2 4021     4021      1081344 Mar 13 08:46 2018\n",
       " drwxrwxr-x   2 4021     4021      1048576 Mar 26 11:38 2019\n",
       " -rw-r--r--   1 4021     4021        10065 Jul 27  2006 isd-lite-format.pdf\n",
       " -rw-r--r--   1 4021     4021         3119 Jul 27  2006 isd-lite-format.txt\n",
       " -rw-r--r--   1 4021     4021        10648 Jul 27  2006 isd-lite-technical-document.pdf\n",
       " -rw-r--r--   1 4021     4021         4953 Jul 27  2006 isd-lite-technical-document.txt\n",
       " </p>]"
      ]
     },
     "execution_count": 54,
     "metadata": {},
     "output_type": "execute_result"
    }
   ],
   "source": [
    "soup.find_all('p')"
   ]
  },
  {
   "cell_type": "code",
   "execution_count": 58,
   "metadata": {},
   "outputs": [],
   "source": [
    "resp = urllib.request.urlopen(url)\n",
    "soup = BeautifulSoup(resp, from_encoding=resp.info().get_param('charset'))\n",
    "\n",
    "for link in soup.find_all('a', href=True):\n",
    "    print(link['href'])"
   ]
  },
  {
   "cell_type": "code",
   "execution_count": 68,
   "metadata": {},
   "outputs": [
    {
     "name": "stdout",
     "output_type": "stream",
     "text": [
      "pub/data/noaa/isd-lite/2008/722950-23174-2008.gz\n"
     ]
    }
   ],
   "source": [
    "import ftplib\n",
    "import io\n",
    "import gzip\n",
    "# import ish_parser # from: https://github.com/haydenth/ish_parser\n",
    "\n",
    "ftp_host = \"ftp.ncdc.noaa.gov\"\n",
    "# parser = ish_parser.ish_parser()\n",
    "\n",
    "# identifies what data to get\n",
    "USAF_ID = '722950'\n",
    "WBAN_ID = '23174'\n",
    "# YEARS = range(1975, 1980)\n",
    "YEARS = range(2008, 2009) # year 2008\n",
    "\n",
    "with ftplib.FTP(host=ftp_host) as ftpconn:\n",
    "    ftpconn.login()\n",
    "\n",
    "    for year in YEARS:\n",
    "        ftp_file = \"pub/data/noaa/isd-lite/{YEAR}/{USAF}-{WBAN}-{YEAR}.gz\".format(USAF=USAF_ID, WBAN=WBAN_ID, YEAR=year)\n",
    "        print(ftp_file)\n",
    "\n",
    "        # read the whole file and save it to a BytesIO (stream)\n",
    "        response = io.BytesIO()\n",
    "        try:\n",
    "            ftpconn.retrbinary('RETR '+ftp_file, response.write)\n",
    "        except ftplib.error_perm as err:\n",
    "            if str(err).startswith('550 '):\n",
    "                print('ERROR:', err)\n",
    "            else:\n",
    "                raise\n",
    "\n",
    "#         # decompress and parse each line \n",
    "#         response.seek(0) # jump back to the beginning of the stream\n",
    "#         with gzip.open(response, mode='rb') as gzstream:\n",
    "#             for line in gzstream:\n",
    "#                 parser.loads(line.decode('latin-1'))"
   ]
  },
  {
   "cell_type": "code",
   "execution_count": 67,
   "metadata": {},
   "outputs": [
    {
     "name": "stdout",
     "output_type": "stream",
     "text": [
      "2008\n"
     ]
    }
   ],
   "source": [
    "import ftplib\n",
    "import io\n",
    "import gzip\n",
    "# import ish_parser # from: https://github.com/haydenth/ish_parser\n",
    "\n",
    "ftp_host = \"ftp.ncdc.noaa.gov\"\n",
    "# parser = ish_parser.ish_parser()\n",
    "\n",
    "# identifies what data to get\n",
    "USAF_ID = '722950'\n",
    "WBAN_ID = '23174'\n",
    "# YEARS = range(1975, 1980)\n",
    "YEARS = range(2008, 2009) # year 2008\n",
    "\n",
    "YEARS = range(2008, 2009)\n",
    "for year in YEARS:\n",
    "    print(year)"
   ]
  },
  {
   "cell_type": "code",
   "execution_count": 85,
   "metadata": {},
   "outputs": [
    {
     "data": {
      "text/plain": [
       "('aa.gz', <email.message.Message at 0x1204c7e80>)"
      ]
     },
     "execution_count": 85,
     "metadata": {},
     "output_type": "execute_result"
    }
   ],
   "source": [
    "file = \"{YEAR}/{USAF}-{WBAN}-{YEAR}.gz\".format(USAF=USAF_ID, WBAN=WBAN_ID, YEAR=year)\n",
    "ftp_file = url+file\n",
    "urlretrieve(ftp_file, filename='aa.gz')"
   ]
  },
  {
   "cell_type": "code",
   "execution_count": 76,
   "metadata": {},
   "outputs": [
    {
     "data": {
      "text/plain": [
       "'ftp://ftp.ncdc.noaa.gov/pub/data/noaa/isd-lite/2008/722950-23174-2008.gz'"
      ]
     },
     "execution_count": 76,
     "metadata": {},
     "output_type": "execute_result"
    }
   ],
   "source": [
    "ftp_file"
   ]
  },
  {
   "cell_type": "code",
   "execution_count": 83,
   "metadata": {},
   "outputs": [
    {
     "name": "stdout",
     "output_type": "stream",
     "text": [
      "done\n"
     ]
    }
   ],
   "source": [
    "input = gzip.GzipFile('a.gz', 'rb')\n",
    "s = input.read()\n",
    "input.close()\n",
    "\n",
    "output = open(\"a.txt\", 'wb')\n",
    "output.write(s)\n",
    "output.close()\n",
    "\n",
    "print(\"done\")"
   ]
  },
  {
   "cell_type": "code",
   "execution_count": null,
   "metadata": {},
   "outputs": [],
   "source": []
  }
 ],
 "metadata": {
  "kernelspec": {
   "display_name": "Python 3",
   "language": "python",
   "name": "python3"
  },
  "language_info": {
   "codemirror_mode": {
    "name": "ipython",
    "version": 3
   },
   "file_extension": ".py",
   "mimetype": "text/x-python",
   "name": "python",
   "nbconvert_exporter": "python",
   "pygments_lexer": "ipython3",
   "version": "3.7.1"
  }
 },
 "nbformat": 4,
 "nbformat_minor": 2
}
