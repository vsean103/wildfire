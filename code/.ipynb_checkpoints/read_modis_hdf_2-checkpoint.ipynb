{
 "cells": [
  {
   "cell_type": "code",
   "execution_count": 2,
   "metadata": {
    "collapsed": false
   },
   "outputs": [],
   "source": [
    "#import necessary modules\n",
    "from pyhdf import SD\n",
    "import numpy as np\n",
    "from mpl_toolkits.basemap import Basemap, cm\n",
    "import matplotlib.pyplot as plt\n",
    "import sys\n",
    "import h5py\n",
    "import time\n",
    "import calendar"
   ]
  },
  {
   "cell_type": "code",
   "execution_count": 6,
   "metadata": {
    "collapsed": true
   },
   "outputs": [],
   "source": [
    "PATH = \"../data/modis_dataset/\"\n",
    "FILE_NAME = PATH + \"MOD13Q1.A2008161.h08v05.006.2015176070634.hdf\"\n",
    "\n",
    "hdf=SD.SD(FILE_NAME)"
   ]
  },
  {
   "cell_type": "code",
   "execution_count": 7,
   "metadata": {
    "collapsed": false
   },
   "outputs": [
    {
     "data": {
      "text/plain": [
       "{'250m 16 days EVI': (('YDim:MODIS_Grid_16DAY_250m_500m_VI',\n",
       "   'XDim:MODIS_Grid_16DAY_250m_500m_VI'),\n",
       "  (4800, 4800),\n",
       "  22,\n",
       "  1),\n",
       " '250m 16 days MIR reflectance': (('YDim:MODIS_Grid_16DAY_250m_500m_VI',\n",
       "   'XDim:MODIS_Grid_16DAY_250m_500m_VI'),\n",
       "  (4800, 4800),\n",
       "  22,\n",
       "  6),\n",
       " '250m 16 days NDVI': (('YDim:MODIS_Grid_16DAY_250m_500m_VI',\n",
       "   'XDim:MODIS_Grid_16DAY_250m_500m_VI'),\n",
       "  (4800, 4800),\n",
       "  22,\n",
       "  0),\n",
       " '250m 16 days NIR reflectance': (('YDim:MODIS_Grid_16DAY_250m_500m_VI',\n",
       "   'XDim:MODIS_Grid_16DAY_250m_500m_VI'),\n",
       "  (4800, 4800),\n",
       "  22,\n",
       "  4),\n",
       " '250m 16 days VI Quality': (('YDim:MODIS_Grid_16DAY_250m_500m_VI',\n",
       "   'XDim:MODIS_Grid_16DAY_250m_500m_VI'),\n",
       "  (4800, 4800),\n",
       "  23,\n",
       "  2),\n",
       " '250m 16 days blue reflectance': (('YDim:MODIS_Grid_16DAY_250m_500m_VI',\n",
       "   'XDim:MODIS_Grid_16DAY_250m_500m_VI'),\n",
       "  (4800, 4800),\n",
       "  22,\n",
       "  5),\n",
       " '250m 16 days composite day of the year': (('YDim:MODIS_Grid_16DAY_250m_500m_VI',\n",
       "   'XDim:MODIS_Grid_16DAY_250m_500m_VI'),\n",
       "  (4800, 4800),\n",
       "  22,\n",
       "  10),\n",
       " '250m 16 days pixel reliability': (('YDim:MODIS_Grid_16DAY_250m_500m_VI',\n",
       "   'XDim:MODIS_Grid_16DAY_250m_500m_VI'),\n",
       "  (4800, 4800),\n",
       "  20,\n",
       "  11),\n",
       " '250m 16 days red reflectance': (('YDim:MODIS_Grid_16DAY_250m_500m_VI',\n",
       "   'XDim:MODIS_Grid_16DAY_250m_500m_VI'),\n",
       "  (4800, 4800),\n",
       "  22,\n",
       "  3),\n",
       " '250m 16 days relative azimuth angle': (('YDim:MODIS_Grid_16DAY_250m_500m_VI',\n",
       "   'XDim:MODIS_Grid_16DAY_250m_500m_VI'),\n",
       "  (4800, 4800),\n",
       "  22,\n",
       "  9),\n",
       " '250m 16 days sun zenith angle': (('YDim:MODIS_Grid_16DAY_250m_500m_VI',\n",
       "   'XDim:MODIS_Grid_16DAY_250m_500m_VI'),\n",
       "  (4800, 4800),\n",
       "  22,\n",
       "  8),\n",
       " '250m 16 days view zenith angle': (('YDim:MODIS_Grid_16DAY_250m_500m_VI',\n",
       "   'XDim:MODIS_Grid_16DAY_250m_500m_VI'),\n",
       "  (4800, 4800),\n",
       "  22,\n",
       "  7)}"
      ]
     },
     "execution_count": 7,
     "metadata": {},
     "output_type": "execute_result"
    }
   ],
   "source": [
    "hdf.datasets()"
   ]
  },
  {
   "cell_type": "code",
   "execution_count": 8,
   "metadata": {
    "collapsed": false
   },
   "outputs": [],
   "source": [
    "# Get the selected dataset\n",
    "ndvi = hdf.select('250m 16 days NDVI')"
   ]
  },
  {
   "cell_type": "code",
   "execution_count": 9,
   "metadata": {
    "collapsed": false
   },
   "outputs": [
    {
     "data": {
      "text/plain": [
       "{'_FillValue': -3000,\n",
       " 'add_offset': 0.0,\n",
       " 'add_offset_err': 0.0,\n",
       " 'calibrated_nt': 5,\n",
       " 'long_name': '250m 16 days NDVI',\n",
       " 'scale_factor': 10000.0,\n",
       " 'scale_factor_err': 0.0,\n",
       " 'units': 'NDVI',\n",
       " 'valid_range': [-2000, 10000]}"
      ]
     },
     "execution_count": 9,
     "metadata": {},
     "output_type": "execute_result"
    }
   ],
   "source": [
    "# Not the attributes that you're looking for\n",
    "ndvi.attributes()"
   ]
  },
  {
   "cell_type": "code",
   "execution_count": 10,
   "metadata": {
    "collapsed": false
   },
   "outputs": [
    {
     "data": {
      "text/plain": [
       "{'XDim:MODIS_Grid_16DAY_250m_500m_VI': 4800,\n",
       " 'YDim:MODIS_Grid_16DAY_250m_500m_VI': 4800}"
      ]
     },
     "execution_count": 10,
     "metadata": {},
     "output_type": "execute_result"
    }
   ],
   "source": [
    "ndvi.dimensions()"
   ]
  },
  {
   "cell_type": "code",
   "execution_count": 11,
   "metadata": {
    "collapsed": true
   },
   "outputs": [],
   "source": [
    "# get the data\n",
    "ndvi = ndvi[:]\n",
    "min_ndvi=ndvi.min()\n",
    "max_ndvi=ndvi.max()"
   ]
  },
  {
   "cell_type": "code",
   "execution_count": 12,
   "metadata": {
    "collapsed": false
   },
   "outputs": [
    {
     "name": "stdout",
     "output_type": "stream",
     "text": [
      "Min NDVI:  -3000\n",
      "Max NDVI:  9911\n"
     ]
    }
   ],
   "source": [
    "print('Min NDVI: ', min_ndvi)\n",
    "print('Max NDVI: ', max_ndvi)"
   ]
  },
  {
   "cell_type": "code",
   "execution_count": 13,
   "metadata": {
    "collapsed": false
   },
   "outputs": [
    {
     "name": "stdout",
     "output_type": "stream",
     "text": [
      "[[-3000 -3000 -3000 ...,  1723  1656  1722]\n",
      " [-3000 -3000 -3000 ...,  1691  1688  1712]\n",
      " [-3000 -3000 -3000 ...,  1677  1631  1552]\n",
      " ..., \n",
      " [ 2084  1994  2002 ...,  1912  1973  2093]\n",
      " [ 2065  2072  2073 ...,  2004  2027  2220]\n",
      " [ 2035  2042  1985 ...,  2027  2057  2260]]\n"
     ]
    }
   ],
   "source": [
    "print(ndvi)"
   ]
  },
  {
   "cell_type": "code",
   "execution_count": 19,
   "metadata": {
    "collapsed": false
   },
   "outputs": [
    {
     "data": {
      "text/plain": [
       "(4800, 4800)"
      ]
     },
     "execution_count": 19,
     "metadata": {},
     "output_type": "execute_result"
    }
   ],
   "source": [
    "ndvi.shape"
   ]
  },
  {
   "cell_type": "code",
   "execution_count": 21,
   "metadata": {
    "collapsed": false
   },
   "outputs": [],
   "source": [
    "from pyproj import Proj\n",
    "\n",
    "p_modis_grid = Proj('+proj=sinu +R=6371007.181 +nadgrids=@null +wktext')\n",
    "# from lon, lat to x, y\n",
    "# x, y = p_modis_grid(lon, lat)\n",
    "# # or the inverse, from x, y to lon, lat\n",
    "# lon, lat = p_modis_grid(x, y, inverse=True)"
   ]
  },
  {
   "cell_type": "code",
   "execution_count": 22,
   "metadata": {
    "collapsed": false
   },
   "outputs": [
    {
     "data": {
      "text/plain": [
       "(-10467939.294345845, 4434013.892620987)"
      ]
     },
     "execution_count": 22,
     "metadata": {},
     "output_type": "execute_result"
    }
   ],
   "source": [
    "lon, lat = -122.669, 39.876\n",
    "x, y = p_modis_grid(lon, lat)\n",
    "x, y"
   ]
  },
  {
   "cell_type": "code",
   "execution_count": 23,
   "metadata": {
    "collapsed": false
   },
   "outputs": [
    {
     "data": {
      "text/plain": [
       "(-10560554.358197292, 4107211.6348616066)"
      ]
     },
     "execution_count": 23,
     "metadata": {},
     "output_type": "execute_result"
    }
   ],
   "source": [
    "lon, lat = -118.821, 36.937\n",
    "x, y = p_modis_grid(lon, lat)\n",
    "x,y"
   ]
  },
  {
   "cell_type": "code",
   "execution_count": 25,
   "metadata": {
    "collapsed": false
   },
   "outputs": [
    {
     "data": {
      "text/plain": [
       "(254.98897294741124, 658.1047001788821)"
      ]
     },
     "execution_count": 25,
     "metadata": {},
     "output_type": "execute_result"
    }
   ],
   "source": [
    "#You have global map coordinates there which need to be #translated into x/y relative to the specific grid:\n",
    "\n",
    "upper_ul_x = -20015109.354\n",
    "upper_ul_y = 10007554.677\n",
    "tile_h = 8\n",
    "tile_v = 5\n",
    "pixel_resolution_m = 500\n",
    "tile_resolution_m = 1200000\n",
    "\n",
    "x,y = p_modis_grid(-122,39)\n",
    "\n",
    "im_ul_x = upper_ul_x + tile_h*tile_resolution_m\n",
    "im_ul_y = upper_ul_y - tile_v*tile_resolution_m\n",
    "\n",
    "\n",
    "im_x = (im_ul_x - x)/pixel_resolution_m\n",
    "im_y = (y - im_ul_y)/pixel_resolution_m\n",
    "\n",
    "im_x, im_y"
   ]
  },
  {
   "cell_type": "code",
   "execution_count": 29,
   "metadata": {
    "collapsed": false
   },
   "outputs": [
    {
     "data": {
      "text/plain": [
       "(255, 658)"
      ]
     },
     "execution_count": 29,
     "metadata": {},
     "output_type": "execute_result"
    }
   ],
   "source": [
    "round(im_x), round(im_y)"
   ]
  },
  {
   "cell_type": "code",
   "execution_count": 30,
   "metadata": {
    "collapsed": false
   },
   "outputs": [
    {
     "data": {
      "text/plain": [
       "-3000"
      ]
     },
     "execution_count": 30,
     "metadata": {},
     "output_type": "execute_result"
    }
   ],
   "source": [
    "x, y = round(im_x), round(im_y)\n",
    "ndvi[x,y]"
   ]
  },
  {
   "cell_type": "code",
   "execution_count": null,
   "metadata": {
    "collapsed": true
   },
   "outputs": [],
   "source": []
  }
 ],
 "metadata": {
  "kernelspec": {
   "display_name": "Python 3",
   "language": "python",
   "name": "python3"
  },
  "language_info": {
   "codemirror_mode": {
    "name": "ipython",
    "version": 3
   },
   "file_extension": ".py",
   "mimetype": "text/x-python",
   "name": "python",
   "nbconvert_exporter": "python",
   "pygments_lexer": "ipython3",
   "version": "3.4.5"
  }
 },
 "nbformat": 4,
 "nbformat_minor": 0
}
