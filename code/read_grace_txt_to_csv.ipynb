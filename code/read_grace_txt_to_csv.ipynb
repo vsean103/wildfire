{
 "cells": [
  {
   "cell_type": "code",
   "execution_count": 16,
   "metadata": {
    "collapsed": true
   },
   "outputs": [],
   "source": [
    "import csv\n",
    "import re"
   ]
  },
  {
   "cell_type": "code",
   "execution_count": 17,
   "metadata": {
    "collapsed": true
   },
   "outputs": [],
   "source": [
    "PATH = \"../data/grace_dataset/\"\n",
    "# NAME = \"GLDAS_NOAH10_M.A200801.totalH2O\"\n",
    "# FILE_NAME = PATH + NAME + \".txt\"\n",
    "# OUT_FILE = PATH + 'csv/' NAME + '.csv'"
   ]
  },
  {
   "cell_type": "code",
   "execution_count": 25,
   "metadata": {},
   "outputs": [],
   "source": [
    "def read_grace_to_csv(filename):\n",
    "    name = filename.split(\"/\")[-1]\n",
    "    out_file = PATH + 'csv/' + name + '.csv'\n",
    "    with open(filename, 'r') as in_file:\n",
    "        # skip first 19 lines\n",
    "        for _ in range(19):\n",
    "            next(in_file)\n",
    "        # strip spaces in front and the back\n",
    "        stripped = (line.strip() for line in in_file)\n",
    "        # strip spaces in between\n",
    "        stripped = (re.sub(' +', ' ', line) for line in stripped)\n",
    "        lines = (line.split(\" \") for line in stripped if line)\n",
    "        with open(out_file, 'w') as out_file:\n",
    "            writer = csv.writer(out_file)\n",
    "            writer.writerow(('LON', 'LAT', 'GRACE'))\n",
    "            writer.writerows(lines)        "
   ]
  },
  {
   "cell_type": "code",
   "execution_count": 26,
   "metadata": {
    "collapsed": true
   },
   "outputs": [],
   "source": [
    "import glob\n",
    "import errno"
   ]
  },
  {
   "cell_type": "code",
   "execution_count": 27,
   "metadata": {},
   "outputs": [],
   "source": [
    "file_path = '../data/grace_dataset/*.txt'\n",
    "files = glob.glob(file_path)\n",
    "for name in files:\n",
    "    try:\n",
    "        read_grace_to_csv(name)\n",
    "    except IOError as exc:\n",
    "        if exc.errno != errno.EISDIR:\n",
    "            raise"
   ]
  },
  {
   "cell_type": "code",
   "execution_count": null,
   "metadata": {
    "collapsed": true
   },
   "outputs": [],
   "source": []
  }
 ],
 "metadata": {
  "kernelspec": {
   "display_name": "Python 3",
   "language": "python",
   "name": "python3"
  },
  "language_info": {
   "codemirror_mode": {
    "name": "ipython",
    "version": 3
   },
   "file_extension": ".py",
   "mimetype": "text/x-python",
   "name": "python",
   "nbconvert_exporter": "python",
   "pygments_lexer": "ipython3",
   "version": "3.7.1"
  }
 },
 "nbformat": 4,
 "nbformat_minor": 2
}
