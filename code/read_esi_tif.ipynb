{
 "cells": [
  {
   "cell_type": "code",
   "execution_count": 1,
   "metadata": {
    "scrolled": false
   },
   "outputs": [],
   "source": [
    "from osgeo import osr, ogr\n",
    "import gdal\n",
    "\n",
    "PATH = \"../data/esi_dataset/\"\n",
    "FILE_NAME = PATH + \"DFPPM_4WK_2008162.tif\""
   ]
  },
  {
   "cell_type": "code",
   "execution_count": 2,
   "metadata": {},
   "outputs": [
    {
     "name": "stdout",
     "output_type": "stream",
     "text": [
      "GEOGCS[\"WGS 84\",DATUM[\"WGS_1984\",SPHEROID[\"WGS 84\",6378137,298.257223563,AUTHORITY[\"EPSG\",\"7030\"]],AUTHORITY[\"EPSG\",\"6326\"]],PRIMEM[\"Greenwich\",0],UNIT[\"degree\",0.0174532925199433],AUTHORITY[\"EPSG\",\"4326\"]]\n"
     ]
    }
   ],
   "source": [
    "data = gdal.Open(FILE_NAME)\n",
    "prj = data.GetProjection()\n",
    "print(prj)\n",
    "# srs=osr.SpatialReference(wkt=prj)\n",
    "# if srs.IsProjected:\n",
    "#     print(srs.GetAttrValue('projcs'))\n",
    "# print(srs.GetAttrValue('geogcs'))"
   ]
  },
  {
   "cell_type": "code",
   "execution_count": 3,
   "metadata": {},
   "outputs": [
    {
     "name": "stdout",
     "output_type": "stream",
     "text": [
      "-180.0 90.0 0.05 0.05\n",
      "(-180.0, 0.05, 0.0, 90.0, 0.0, -0.05)\n"
     ]
    }
   ],
   "source": [
    "# driver = gdal.GetDriverByName('tif')\n",
    "transform = data.GetGeoTransform()\n",
    "\n",
    "xOrigin = transform[0]\n",
    "yOrigin = transform[3]\n",
    "pixelWidth = transform[1]\n",
    "pixelHeight = -transform[5]   # negative coz from top to bottom \n",
    "print(xOrigin, yOrigin, pixelWidth, pixelHeight)\n",
    "print(transform)"
   ]
  },
  {
   "cell_type": "code",
   "execution_count": 4,
   "metadata": {},
   "outputs": [
    {
     "data": {
      "text/plain": [
       "(1180, 1020)"
      ]
     },
     "execution_count": 4,
     "metadata": {},
     "output_type": "execute_result"
    }
   ],
   "source": [
    "lon, lat = -121, 39\n",
    "\n",
    "# SpatialReference src = new SpatialReference();\n",
    "src = osr.SpatialReference()\n",
    "# src.SetWellKnownGeogCS(\"WGS84\");\n",
    "src.SetWellKnownGeogCS(\"WGS84\")\n",
    "\n",
    "# dataset = gdal.Open(\"path/to/my/file\", gdalconstConstants.GA_ReadOnly);\n",
    "dataset = gdal.Open(FILE_NAME)\n",
    "# projection = dataset.GetProjection();\n",
    "projection = dataset.GetProjection()\n",
    "# SpatialReference dst = new SpatialReference(projection);\n",
    "dst = osr.SpatialReference(projection)\n",
    "\n",
    "# CoordinateTransformation ct = new CoordinateTransformation(src, dst);\n",
    "ct = osr.CoordinateTransformation(src, dst)\n",
    "# double[] xy = ct.TransformPoint(lon, lat);\n",
    "xy = ct.TransformPoint(lon, lat)\n",
    "# int x = (int)(((xy[0] - transform[0]) / transform[1]));\n",
    "x = int(((xy[0] - xOrigin) / pixelWidth))\n",
    "# int y = (int)(((xy[1] - transform[3]) / transform[5]));\n",
    "y = int(((yOrigin - xy[1]) / pixelHeight))\n",
    "x,y"
   ]
  },
  {
   "cell_type": "code",
   "execution_count": 5,
   "metadata": {},
   "outputs": [
    {
     "data": {
      "text/plain": [
       "-9999.0"
      ]
     },
     "execution_count": 5,
     "metadata": {},
     "output_type": "execute_result"
    }
   ],
   "source": [
    "# band = data.GetRasterBand(1)\n",
    "# arr = band.ReadAsArray()\n",
    "data = dataset.ReadAsArray()\n",
    "data[x,y]"
   ]
  },
  {
   "cell_type": "code",
   "execution_count": 6,
   "metadata": {},
   "outputs": [
    {
     "name": "stdout",
     "output_type": "stream",
     "text": [
      "(3000, 7200)\n",
      "-9999.0 3.5 -8062.4775\n",
      "-9999.0\n"
     ]
    }
   ],
   "source": [
    "band = dataset.GetRasterBand(1)\n",
    "arr = band.ReadAsArray()\n",
    "print(arr.shape)\n",
    "arr_min = arr.min()\n",
    "arr_max = arr.max()\n",
    "arr_mean = arr.mean()\n",
    "print(arr_min, arr_max, arr_mean)\n",
    "print(arr[x,y])"
   ]
  },
  {
   "cell_type": "code",
   "execution_count": 7,
   "metadata": {},
   "outputs": [
    {
     "name": "stdout",
     "output_type": "stream",
     "text": [
      "001\n",
      "010\n",
      "100\n"
     ]
    }
   ],
   "source": [
    "print(str(1).zfill(3))\n",
    "print(str(10).zfill(3))\n",
    "print(str(100).zfill(3))"
   ]
  },
  {
   "cell_type": "code",
   "execution_count": 75,
   "metadata": {},
   "outputs": [
    {
     "data": {
      "text/plain": [
       "15"
      ]
     },
     "execution_count": 75,
     "metadata": {},
     "output_type": "execute_result"
    }
   ],
   "source": [
    "a = 8\n",
    "x = 8 if a < 8 else a+7\n",
    "x"
   ]
  },
  {
   "cell_type": "code",
   "execution_count": null,
   "metadata": {},
   "outputs": [],
   "source": []
  }
 ],
 "metadata": {
  "kernelspec": {
   "display_name": "Python 3",
   "language": "python",
   "name": "python3"
  },
  "language_info": {
   "codemirror_mode": {
    "name": "ipython",
    "version": 3
   },
   "file_extension": ".py",
   "mimetype": "text/x-python",
   "name": "python",
   "nbconvert_exporter": "python",
   "pygments_lexer": "ipython3",
   "version": "3.7.1"
  }
 },
 "nbformat": 4,
 "nbformat_minor": 1
}
