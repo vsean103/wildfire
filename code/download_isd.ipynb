{
 "cells": [
  {
   "cell_type": "code",
   "execution_count": 3,
   "metadata": {},
   "outputs": [],
   "source": [
    "from urllib.request import urlretrieve\n",
    "import pandas as pd\n",
    "import numpy as np\n",
    "import gzip"
   ]
  },
  {
   "cell_type": "code",
   "execution_count": 4,
   "metadata": {},
   "outputs": [],
   "source": [
    "url = 'ftp://ftp.ncdc.noaa.gov/pub/data/noaa/isd-lite/'\n",
    "PATH = '../data/isd/'"
   ]
  },
  {
   "cell_type": "code",
   "execution_count": 5,
   "metadata": {},
   "outputs": [],
   "source": [
    "ftp_host = \"ftp.ncdc.noaa.gov\"\n",
    "# identifies what data to get\n",
    "USAF_ID = '722950'\n",
    "WBAN_ID = '23174'\n",
    "year = 2008"
   ]
  },
  {
   "cell_type": "code",
   "execution_count": 6,
   "metadata": {},
   "outputs": [
    {
     "data": {
      "text/plain": [
       "('../data/isd/722950-23174-2008.gz', <email.message.Message at 0x115412438>)"
      ]
     },
     "execution_count": 6,
     "metadata": {},
     "output_type": "execute_result"
    }
   ],
   "source": [
    "file_link = '{YEAR}/{USAF}-{WBAN}-{YEAR}.gz'.format(USAF=USAF_ID, WBAN=WBAN_ID, YEAR=year)\n",
    "file = PATH+'{USAF}-{WBAN}-{YEAR}.gz'.format(USAF=USAF_ID, WBAN=WBAN_ID, YEAR=year)\n",
    "ftp_file = url+file_link\n",
    "urlretrieve(ftp_file, filename=file)"
   ]
  },
  {
   "cell_type": "code",
   "execution_count": 7,
   "metadata": {},
   "outputs": [
    {
     "data": {
      "text/plain": [
       "'ftp://ftp.ncdc.noaa.gov/pub/data/noaa/isd-lite/2008/722950-23174-2008.gz'"
      ]
     },
     "execution_count": 7,
     "metadata": {},
     "output_type": "execute_result"
    }
   ],
   "source": [
    "ftp_file"
   ]
  },
  {
   "cell_type": "code",
   "execution_count": 8,
   "metadata": {},
   "outputs": [
    {
     "name": "stdout",
     "output_type": "stream",
     "text": [
      "done\n"
     ]
    }
   ],
   "source": [
    "# unzip file\n",
    "\n",
    "input = gzip.GzipFile(file, 'rb')\n",
    "s = input.read()\n",
    "input.close()\n",
    "output_file = PATH+'{USAF}-{WBAN}-{YEAR}.txt'.format(USAF=USAF_ID, WBAN=WBAN_ID, YEAR=year)\n",
    "output = open(output_file, 'wb')\n",
    "output.write(s)\n",
    "output.close()\n",
    "\n",
    "print(\"done\")"
   ]
  },
  {
   "cell_type": "code",
   "execution_count": null,
   "metadata": {},
   "outputs": [],
   "source": []
  }
 ],
 "metadata": {
  "kernelspec": {
   "display_name": "Python 3",
   "language": "python",
   "name": "python3"
  },
  "language_info": {
   "codemirror_mode": {
    "name": "ipython",
    "version": 3
   },
   "file_extension": ".py",
   "mimetype": "text/x-python",
   "name": "python",
   "nbconvert_exporter": "python",
   "pygments_lexer": "ipython3",
   "version": "3.7.2"
  }
 },
 "nbformat": 4,
 "nbformat_minor": 2
}
